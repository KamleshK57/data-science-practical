{
 "cells": [
  {
   "cell_type": "code",
   "execution_count": 2,
   "id": "5ba229e6-5138-4247-b213-1e9ae26fc15b",
   "metadata": {},
   "outputs": [
    {
     "name": "stdout",
     "output_type": "stream",
     "text": [
      "original flattended array:\n",
      "[[0 1]\n",
      " [2 3]]\n"
     ]
    }
   ],
   "source": [
    "import numpy as np\n",
    "a=np.arange(4).reshape((2,2))\n",
    "print(\"original flattended array:\")\n",
    "print(a)"
   ]
  },
  {
   "cell_type": "code",
   "execution_count": 3,
   "id": "bf048e74-233b-4d9a-be81-ffd80d521191",
   "metadata": {},
   "outputs": [
    {
     "name": "stdout",
     "output_type": "stream",
     "text": [
      "maximum value of above flattened array\n",
      "3\n"
     ]
    }
   ],
   "source": [
    "print(\"maximum value of above flattened array\")\n",
    "print(np.max(a))"
   ]
  },
  {
   "cell_type": "code",
   "execution_count": 4,
   "id": "b6730337-6dec-48cc-a715-7de873e14a30",
   "metadata": {},
   "outputs": [
    {
     "name": "stdout",
     "output_type": "stream",
     "text": [
      "minimum value of above flattened array\n",
      "0\n"
     ]
    }
   ],
   "source": [
    "print(\"minimum value of above flattened array\")\n",
    "print(np.min(a))"
   ]
  },
  {
   "cell_type": "code",
   "execution_count": 5,
   "id": "bffe059b-f2e8-40c1-97b3-93e1d36c3ffc",
   "metadata": {},
   "outputs": [
    {
     "name": "stdout",
     "output_type": "stream",
     "text": [
      "1.0\n"
     ]
    }
   ],
   "source": [
    "import numpy as np\n",
    "point1=np.array((1,2))\n",
    "point2=np.array((1,1))\n",
    "dist=np.linalg.norm(point1-point2)\n",
    "print(dist)"
   ]
  },
  {
   "cell_type": "code",
   "execution_count": 6,
   "id": "7794209f-fb0a-4a92-8e1e-de106696aaa6",
   "metadata": {},
   "outputs": [
    {
     "name": "stdout",
     "output_type": "stream",
     "text": [
      "Range= 26\n",
      "mean= 11\n",
      "quartile= [5.0, 9.0, 18.0]\n",
      "interquartile Range= 13.0\n"
     ]
    }
   ],
   "source": [
    "import pandas as pd\n",
    "import statistics as st\n",
    "data=[1,2,5,6,7,9,12,15,18,19,27]\n",
    "Range=max(data)-min(data)\n",
    "print('Range=',Range)\n",
    "print('mean=',st.mean(data))\n",
    "q=st.quantiles(data)\n",
    "print('quartile=',q)\n",
    "print('interquartile Range=',q[2]-q[0])"
   ]
  },
  {
   "cell_type": "code",
   "execution_count": 7,
   "id": "32c64d02-c647-4ffd-b311-5777c23c9cf7",
   "metadata": {},
   "outputs": [
    {
     "name": "stdout",
     "output_type": "stream",
     "text": [
      "Manhattan Distance between [1, 2, 3] and [5, 3, 2] is 6\n"
     ]
    }
   ],
   "source": [
    "from scipy.spatial import distance\n",
    "p1=[1,2,3]\n",
    "p2=[5,3,2]\n",
    "manhattan_distance=distance.cityblock(p1,p2)\n",
    "print('Manhattan Distance between',p1,'and',p2,'is',manhattan_distance)"
   ]
  },
  {
   "cell_type": "code",
   "execution_count": 8,
   "id": "1ec50364-aedc-4129-9b00-a6e0b66cb2f6",
   "metadata": {},
   "outputs": [
    {
     "name": "stdout",
     "output_type": "stream",
     "text": [
      "nums: [0.5 0.7 1.  1.2 1.3 2.1]\n",
      "bins: [0 1 2 3]\n",
      "Result: (array([2, 3, 1], dtype=int64), array([0, 1, 2, 3]))\n"
     ]
    },
    {
     "data": {
      "image/png": "[encoded data removed]",
      "text/plain": [
       "<Figure size 640x480 with 1 Axes>"
      ]
     },
     "metadata": {},
     "output_type": "display_data"
    }
   ],
   "source": [
    "import numpy as np\n",
    "import matplotlib.pyplot as plt\n",
    "nums=np.array([0.5,0.7,1.0,1.2,1.3,2.1])\n",
    "bins=np.array([0,1,2,3])\n",
    "print(\"nums:\",nums)\n",
    "print(\"bins:\",bins)\n",
    "print(\"Result:\",np.histogram(nums,bins))\n",
    "plt.hist(nums,bins=bins)\n",
    "plt.show()"
   ]
  },
  {
   "cell_type": "code",
   "execution_count": 10,
   "id": "7ac621b1-ae40-4d7f-bc07-550f295792d5",
   "metadata": {},
   "outputs": [
    {
     "name": "stdout",
     "output_type": "stream",
     "text": [
      "{'Name': ['Rohit', 'Pratik'], 'Age': [20, 21], 'Percentage': [85.1, 70.8]}\n"
     ]
    }
   ],
   "source": [
    "import pandas as pd\n",
    "student={'Name':['Rohit','Pratik'],'Age':[20,21],'Percentage':[85.10,70.80]}\n",
    "print(student)"
   ]
  },
  {
   "cell_type": "code",
   "execution_count": 11,
   "id": "8ecdf453-324f-4439-9324-f408d8deb88b",
   "metadata": {},
   "outputs": [],
   "source": [
    "student_df=pd.DataFrame(student)"
   ]
  },
  {
   "cell_type": "code",
   "execution_count": 14,
   "id": "a6282208-8cfd-4cee-934d-9168f2416b13",
   "metadata": {},
   "outputs": [
    {
     "name": "stdout",
     "output_type": "stream",
     "text": [
      "Average of student\n",
      "20.5\n"
     ]
    }
   ],
   "source": [
    "mean_df=student_df['Age'].mean()\n",
    "print(\"Average of student\")\n",
    "print(mean_df)"
   ]
  },
  {
   "cell_type": "code",
   "execution_count": 15,
   "id": "4bc9dee0-3904-4ec7-8505-da367e222d77",
   "metadata": {},
   "outputs": [
    {
     "name": "stdout",
     "output_type": "stream",
     "text": [
      "Average of percentage \n",
      "77.94999999999999\n"
     ]
    }
   ],
   "source": [
    "mean_df1=student_df['Percentage'].mean()\n",
    "print(\"Average of percentage \")\n",
    "print(mean_df1)"
   ]
  },
  {
   "cell_type": "code",
   "execution_count": 16,
   "id": "e47ee211-be5b-423e-8fa0-373c8fae9693",
   "metadata": {},
   "outputs": [
    {
     "data": {
      "text/html": [
       "<div>\n",
       "<style scoped>\n",
       "    .dataframe tbody tr th:only-of-type {\n",
       "        vertical-align: middle;\n",
       "    }\n",
       "\n",
       "    .dataframe tbody tr th {\n",
       "        vertical-align: top;\n",
       "    }\n",
       "\n",
       "    .dataframe thead th {\n",
       "        text-align: right;\n",
       "    }\n",
       "</style>\n",
       "<table border=\"1\" class=\"dataframe\">\n",
       "  <thead>\n",
       "    <tr style=\"text-align: right;\">\n",
       "      <th></th>\n",
       "      <th>Name</th>\n",
       "      <th>Age</th>\n",
       "      <th>Percentage</th>\n",
       "    </tr>\n",
       "  </thead>\n",
       "  <tbody>\n",
       "    <tr>\n",
       "      <th>0</th>\n",
       "      <td>Rohit</td>\n",
       "      <td>20</td>\n",
       "      <td>85.1</td>\n",
       "    </tr>\n",
       "    <tr>\n",
       "      <th>1</th>\n",
       "      <td>Pratik</td>\n",
       "      <td>21</td>\n",
       "      <td>70.8</td>\n",
       "    </tr>\n",
       "  </tbody>\n",
       "</table>\n",
       "</div>"
      ],
      "text/plain": [
       "     Name  Age  Percentage\n",
       "0   Rohit   20        85.1\n",
       "1  Pratik   21        70.8"
      ]
     },
     "execution_count": 16,
     "metadata": {},
     "output_type": "execute_result"
    }
   ],
   "source": [
    "student_df"
   ]
  },
  {
   "cell_type": "code",
   "execution_count": 19,
   "id": "a5ded99d-3e9e-4506-8279-124a38081c61",
   "metadata": {},
   "outputs": [
    {
     "data": {
      "text/html": [
       "<div>\n",
       "<style scoped>\n",
       "    .dataframe tbody tr th:only-of-type {\n",
       "        vertical-align: middle;\n",
       "    }\n",
       "\n",
       "    .dataframe tbody tr th {\n",
       "        vertical-align: top;\n",
       "    }\n",
       "\n",
       "    .dataframe thead th {\n",
       "        text-align: right;\n",
       "    }\n",
       "</style>\n",
       "<table border=\"1\" class=\"dataframe\">\n",
       "  <thead>\n",
       "    <tr style=\"text-align: right;\">\n",
       "      <th></th>\n",
       "      <th>Age</th>\n",
       "      <th>Percentage</th>\n",
       "    </tr>\n",
       "  </thead>\n",
       "  <tbody>\n",
       "    <tr>\n",
       "      <th>count</th>\n",
       "      <td>2.000000</td>\n",
       "      <td>2.000000</td>\n",
       "    </tr>\n",
       "    <tr>\n",
       "      <th>mean</th>\n",
       "      <td>20.500000</td>\n",
       "      <td>77.950000</td>\n",
       "    </tr>\n",
       "    <tr>\n",
       "      <th>std</th>\n",
       "      <td>0.707107</td>\n",
       "      <td>10.111627</td>\n",
       "    </tr>\n",
       "    <tr>\n",
       "      <th>min</th>\n",
       "      <td>20.000000</td>\n",
       "      <td>70.800000</td>\n",
       "    </tr>\n",
       "    <tr>\n",
       "      <th>25%</th>\n",
       "      <td>20.250000</td>\n",
       "      <td>74.375000</td>\n",
       "    </tr>\n",
       "    <tr>\n",
       "      <th>50%</th>\n",
       "      <td>20.500000</td>\n",
       "      <td>77.950000</td>\n",
       "    </tr>\n",
       "    <tr>\n",
       "      <th>75%</th>\n",
       "      <td>20.750000</td>\n",
       "      <td>81.525000</td>\n",
       "    </tr>\n",
       "    <tr>\n",
       "      <th>max</th>\n",
       "      <td>21.000000</td>\n",
       "      <td>85.100000</td>\n",
       "    </tr>\n",
       "  </tbody>\n",
       "</table>\n",
       "</div>"
      ],
      "text/plain": [
       "             Age  Percentage\n",
       "count   2.000000    2.000000\n",
       "mean   20.500000   77.950000\n",
       "std     0.707107   10.111627\n",
       "min    20.000000   70.800000\n",
       "25%    20.250000   74.375000\n",
       "50%    20.500000   77.950000\n",
       "75%    20.750000   81.525000\n",
       "max    21.000000   85.100000"
      ]
     },
     "execution_count": 19,
     "metadata": {},
     "output_type": "execute_result"
    }
   ],
   "source": [
    "student_df.describe()"
   ]
  },
  {
   "cell_type": "code",
   "execution_count": 4,
   "id": "47bbeec9-ce5a-47d5-a14f-4f553bb3e3e0",
   "metadata": {},
   "outputs": [
    {
     "data": {
      "text/html": [
       "<div>\n",
       "<style scoped>\n",
       "    .dataframe tbody tr th:only-of-type {\n",
       "        vertical-align: middle;\n",
       "    }\n",
       "\n",
       "    .dataframe tbody tr th {\n",
       "        vertical-align: top;\n",
       "    }\n",
       "\n",
       "    .dataframe thead th {\n",
       "        text-align: right;\n",
       "    }\n",
       "</style>\n",
       "<table border=\"1\" class=\"dataframe\">\n",
       "  <thead>\n",
       "    <tr style=\"text-align: right;\">\n",
       "      <th></th>\n",
       "      <th>id</th>\n",
       "      <th>sepallength</th>\n",
       "      <th>sepalwidth</th>\n",
       "      <th>petallength</th>\n",
       "      <th>petal width</th>\n",
       "      <th>species</th>\n",
       "    </tr>\n",
       "  </thead>\n",
       "  <tbody>\n",
       "    <tr>\n",
       "      <th>0</th>\n",
       "      <td>1</td>\n",
       "      <td>2.3</td>\n",
       "      <td>3.2</td>\n",
       "      <td>1.2</td>\n",
       "      <td>0.2</td>\n",
       "      <td>iris_setosa</td>\n",
       "    </tr>\n",
       "    <tr>\n",
       "      <th>1</th>\n",
       "      <td>2</td>\n",
       "      <td>4.2</td>\n",
       "      <td>4.3</td>\n",
       "      <td>1.3</td>\n",
       "      <td>0.3</td>\n",
       "      <td>iris_setosa</td>\n",
       "    </tr>\n",
       "    <tr>\n",
       "      <th>2</th>\n",
       "      <td>3</td>\n",
       "      <td>4.2</td>\n",
       "      <td>5.3</td>\n",
       "      <td>1.4</td>\n",
       "      <td>0.4</td>\n",
       "      <td>iris_setosa</td>\n",
       "    </tr>\n",
       "    <tr>\n",
       "      <th>3</th>\n",
       "      <td>4</td>\n",
       "      <td>4.3</td>\n",
       "      <td>5.6</td>\n",
       "      <td>1.5</td>\n",
       "      <td>0.5</td>\n",
       "      <td>iris_setosa</td>\n",
       "    </tr>\n",
       "    <tr>\n",
       "      <th>4</th>\n",
       "      <td>5</td>\n",
       "      <td>3.2</td>\n",
       "      <td>3.2</td>\n",
       "      <td>3.2</td>\n",
       "      <td>0.4</td>\n",
       "      <td>iris_setosa</td>\n",
       "    </tr>\n",
       "  </tbody>\n",
       "</table>\n",
       "</div>"
      ],
      "text/plain": [
       "   id  sepallength  sepalwidth  petallength  petal width      species\n",
       "0   1          2.3         3.2          1.2          0.2  iris_setosa\n",
       "1   2          4.2         4.3          1.3          0.3  iris_setosa\n",
       "2   3          4.2         5.3          1.4          0.4  iris_setosa\n",
       "3   4          4.3         5.6          1.5          0.5  iris_setosa\n",
       "4   5          3.2         3.2          3.2          0.4  iris_setosa"
      ]
     },
     "execution_count": 4,
     "metadata": {},
     "output_type": "execute_result"
    }
   ],
   "source": [
    "import pandas as pd\n",
    "data=pd.read_csv(\"C:/Users/Lenovo/Desktop/Documents/data.csv\")\n",
    "data"
   ]
  },
  {
   "cell_type": "code",
   "execution_count": 5,
   "id": "f2918fe6-e6b2-48fc-80fd-d7cf691f8e59",
   "metadata": {},
   "outputs": [
    {
     "name": "stdout",
     "output_type": "stream",
     "text": [
      "mean of sepallength: 3.6399999999999997\n"
     ]
    }
   ],
   "source": [
    "mean_data=data[\"sepallength\"].mean()\n",
    "print(\"mean of sepallength:\",mean_data)"
   ]
  },
  {
   "cell_type": "code",
   "execution_count": 6,
   "id": "0383058b-eb66-481a-82bd-01437f30114c",
   "metadata": {},
   "outputs": [
    {
     "name": "stdout",
     "output_type": "stream",
     "text": [
      "mean of sepallength: 4.2\n"
     ]
    }
   ],
   "source": [
    "median_data=data[\"sepallength\"].median()\n",
    "print(\"mean of sepallength:\",median_data)"
   ]
  },
  {
   "cell_type": "code",
   "execution_count": 7,
   "id": "f63cdd87-f889-4f31-965b-fe48a2d3a018",
   "metadata": {},
   "outputs": [
    {
     "name": "stdout",
     "output_type": "stream",
     "text": [
      "mean of sepal width: 4.319999999999999\n"
     ]
    }
   ],
   "source": [
    "mean_data=data[\"sepalwidth\"].mean()\n",
    "print(\"mean of sepal width:\",mean_data)"
   ]
  },
  {
   "cell_type": "code",
   "execution_count": 21,
   "id": "0e411055-c9cc-48b9-a678-cbab2fb3221b",
   "metadata": {},
   "outputs": [
    {
     "data": {
      "text/html": [
       "<div>\n",
       "<style scoped>\n",
       "    .dataframe tbody tr th:only-of-type {\n",
       "        vertical-align: middle;\n",
       "    }\n",
       "\n",
       "    .dataframe tbody tr th {\n",
       "        vertical-align: top;\n",
       "    }\n",
       "\n",
       "    .dataframe thead th {\n",
       "        text-align: right;\n",
       "    }\n",
       "</style>\n",
       "<table border=\"1\" class=\"dataframe\">\n",
       "  <thead>\n",
       "    <tr style=\"text-align: right;\">\n",
       "      <th></th>\n",
       "      <th>id</th>\n",
       "      <th>sepallength</th>\n",
       "      <th>sepalwidth</th>\n",
       "      <th>petallength</th>\n",
       "      <th>petal width</th>\n",
       "      <th>species</th>\n",
       "    </tr>\n",
       "  </thead>\n",
       "  <tbody>\n",
       "    <tr>\n",
       "      <th>0</th>\n",
       "      <td>1</td>\n",
       "      <td>4.5</td>\n",
       "      <td>6.4</td>\n",
       "      <td>8.1</td>\n",
       "      <td>6.9</td>\n",
       "      <td>iris_setosa</td>\n",
       "    </tr>\n",
       "    <tr>\n",
       "      <th>1</th>\n",
       "      <td>2</td>\n",
       "      <td>4.6</td>\n",
       "      <td>6.8</td>\n",
       "      <td>8.2</td>\n",
       "      <td>6.4</td>\n",
       "      <td>iris_setosa</td>\n",
       "    </tr>\n",
       "    <tr>\n",
       "      <th>2</th>\n",
       "      <td>3</td>\n",
       "      <td>4.7</td>\n",
       "      <td>6.9</td>\n",
       "      <td>8.3</td>\n",
       "      <td>6.8</td>\n",
       "      <td>iris_setosa</td>\n",
       "    </tr>\n",
       "    <tr>\n",
       "      <th>3</th>\n",
       "      <td>4</td>\n",
       "      <td>4.8</td>\n",
       "      <td>8.1</td>\n",
       "      <td>4.5</td>\n",
       "      <td>6.9</td>\n",
       "      <td>iris_setosa</td>\n",
       "    </tr>\n",
       "    <tr>\n",
       "      <th>4</th>\n",
       "      <td>5</td>\n",
       "      <td>4.9</td>\n",
       "      <td>6.3</td>\n",
       "      <td>4.6</td>\n",
       "      <td>7.9</td>\n",
       "      <td>iris_setosa</td>\n",
       "    </tr>\n",
       "    <tr>\n",
       "      <th>5</th>\n",
       "      <td>6</td>\n",
       "      <td>6.1</td>\n",
       "      <td>4.5</td>\n",
       "      <td>4.7</td>\n",
       "      <td>4.5</td>\n",
       "      <td>iris_visicolor</td>\n",
       "    </tr>\n",
       "    <tr>\n",
       "      <th>6</th>\n",
       "      <td>7</td>\n",
       "      <td>6.2</td>\n",
       "      <td>9.1</td>\n",
       "      <td>4.8</td>\n",
       "      <td>4.6</td>\n",
       "      <td>iris_visicolor</td>\n",
       "    </tr>\n",
       "    <tr>\n",
       "      <th>7</th>\n",
       "      <td>8</td>\n",
       "      <td>6.3</td>\n",
       "      <td>5.6</td>\n",
       "      <td>6.4</td>\n",
       "      <td>4.7</td>\n",
       "      <td>iris_visicolor</td>\n",
       "    </tr>\n",
       "    <tr>\n",
       "      <th>8</th>\n",
       "      <td>9</td>\n",
       "      <td>6.8</td>\n",
       "      <td>8.3</td>\n",
       "      <td>6.8</td>\n",
       "      <td>4.8</td>\n",
       "      <td>iris_visicolor</td>\n",
       "    </tr>\n",
       "    <tr>\n",
       "      <th>9</th>\n",
       "      <td>10</td>\n",
       "      <td>6.9</td>\n",
       "      <td>5.7</td>\n",
       "      <td>6.9</td>\n",
       "      <td>5.8</td>\n",
       "      <td>iris_visicolor</td>\n",
       "    </tr>\n",
       "    <tr>\n",
       "      <th>10</th>\n",
       "      <td>11</td>\n",
       "      <td>8.1</td>\n",
       "      <td>9.1</td>\n",
       "      <td>5.2</td>\n",
       "      <td>6.3</td>\n",
       "      <td>iris_virginica</td>\n",
       "    </tr>\n",
       "    <tr>\n",
       "      <th>11</th>\n",
       "      <td>12</td>\n",
       "      <td>8.2</td>\n",
       "      <td>4.5</td>\n",
       "      <td>5.6</td>\n",
       "      <td>6.4</td>\n",
       "      <td>iris_virginica</td>\n",
       "    </tr>\n",
       "    <tr>\n",
       "      <th>12</th>\n",
       "      <td>13</td>\n",
       "      <td>8.3</td>\n",
       "      <td>4.6</td>\n",
       "      <td>5.8</td>\n",
       "      <td>6.8</td>\n",
       "      <td>iris_virginica</td>\n",
       "    </tr>\n",
       "    <tr>\n",
       "      <th>13</th>\n",
       "      <td>14</td>\n",
       "      <td>7.4</td>\n",
       "      <td>4.7</td>\n",
       "      <td>5.9</td>\n",
       "      <td>6.9</td>\n",
       "      <td>iris_virginica</td>\n",
       "    </tr>\n",
       "    <tr>\n",
       "      <th>14</th>\n",
       "      <td>15</td>\n",
       "      <td>5.4</td>\n",
       "      <td>4.8</td>\n",
       "      <td>8.9</td>\n",
       "      <td>4.6</td>\n",
       "      <td>iris_virginica</td>\n",
       "    </tr>\n",
       "  </tbody>\n",
       "</table>\n",
       "</div>"
      ],
      "text/plain": [
       "    id  sepallength  sepalwidth  petallength  petal width         species\n",
       "0    1          4.5         6.4          8.1          6.9     iris_setosa\n",
       "1    2          4.6         6.8          8.2          6.4     iris_setosa\n",
       "2    3          4.7         6.9          8.3          6.8     iris_setosa\n",
       "3    4          4.8         8.1          4.5          6.9     iris_setosa\n",
       "4    5          4.9         6.3          4.6          7.9     iris_setosa\n",
       "5    6          6.1         4.5          4.7          4.5  iris_visicolor\n",
       "6    7          6.2         9.1          4.8          4.6  iris_visicolor\n",
       "7    8          6.3         5.6          6.4          4.7  iris_visicolor\n",
       "8    9          6.8         8.3          6.8          4.8  iris_visicolor\n",
       "9   10          6.9         5.7          6.9          5.8  iris_visicolor\n",
       "10  11          8.1         9.1          5.2          6.3  iris_virginica\n",
       "11  12          8.2         4.5          5.6          6.4  iris_virginica\n",
       "12  13          8.3         4.6          5.8          6.8  iris_virginica\n",
       "13  14          7.4         4.7          5.9          6.9  iris_virginica\n",
       "14  15          5.4         4.8          8.9          4.6  iris_virginica"
      ]
     },
     "execution_count": 21,
     "metadata": {},
     "output_type": "execute_result"
    }
   ],
   "source": [
    "##########Q3###########\n",
    "import pandas as pd\n",
    "import numpy as np\n",
    "import matplotlib.pyplot as plt\n",
    "data=pd.read_csv(\"C:/Users/Lenovo/Desktop/Documents/dataset.csv\")\n",
    "data"
   ]
  },
  {
   "cell_type": "code",
   "execution_count": 10,
   "id": "724cf240-fa77-4e0e-9730-94a2d353d9fd",
   "metadata": {},
   "outputs": [
    {
     "name": "stdout",
     "output_type": "stream",
     "text": [
      "mean of sepallength: 6.213333333333334\n"
     ]
    }
   ],
   "source": [
    "mean_data=data[\"sepallength\"].mean()\n",
    "print(\"mean of sepallength:\",mean_data)"
   ]
  },
  {
   "cell_type": "code",
   "execution_count": 12,
   "id": "8e3a30f7-e164-4447-9332-7f6652b75ce3",
   "metadata": {},
   "outputs": [
    {
     "name": "stdout",
     "output_type": "stream",
     "text": [
      "median of sepallength: 6.2\n"
     ]
    }
   ],
   "source": [
    "median_data=data[\"sepallength\"].median()\n",
    "print(\"median of sepallength:\",median_data)"
   ]
  },
  {
   "cell_type": "code",
   "execution_count": 14,
   "id": "beeec022-bc18-4ddd-8bc1-67e39ef8288a",
   "metadata": {},
   "outputs": [
    {
     "name": "stdout",
     "output_type": "stream",
     "text": [
      "mean of petallength: 6.313333333333333\n"
     ]
    }
   ],
   "source": [
    "mean_data=data[\"petallength\"].mean()\n",
    "print(\"mean of petallength:\",mean_data)"
   ]
  },
  {
   "cell_type": "code",
   "execution_count": 13,
   "id": "3e014b34-fbcd-4882-a91a-e0a4ae317b42",
   "metadata": {},
   "outputs": [
    {
     "name": "stdout",
     "output_type": "stream",
     "text": [
      "median of petallength: 5.9\n"
     ]
    }
   ],
   "source": [
    "median_data=data[\"petallength\"].median()\n",
    "print(\"median of petallength:\",median_data)"
   ]
  },
  {
   "cell_type": "code",
   "execution_count": 16,
   "id": "1db26c72-bb78-4019-a1be-974f5ed99c93",
   "metadata": {},
   "outputs": [
    {
     "name": "stdout",
     "output_type": "stream",
     "text": [
      "mean of petalwidth: 6.02\n"
     ]
    }
   ],
   "source": [
    "mean_data=data[\"petal width\"].mean()\n",
    "print(\"mean of petalwidth:\",mean_data)"
   ]
  },
  {
   "cell_type": "code",
   "execution_count": 17,
   "id": "643c5fe1-41c8-4dd4-b0c1-054794a2da5a",
   "metadata": {},
   "outputs": [
    {
     "name": "stdout",
     "output_type": "stream",
     "text": [
      "median of petalwidth: 6.4\n"
     ]
    }
   ],
   "source": [
    "median_data=data[\"petal width\"].median()\n",
    "print(\"median of petalwidth:\",median_data)"
   ]
  },
  {
   "cell_type": "code",
   "execution_count": 22,
   "id": "623f849d-a51a-4f14-9c3c-03631d1c0689",
   "metadata": {},
   "outputs": [
    {
     "name": "stdout",
     "output_type": "stream",
     "text": [
      "\n",
      " species counts\n",
      "species\n",
      "iris_setosa       5\n",
      "iris_visicolor    5\n",
      "iris_virginica    5\n",
      "Name: count, dtype: int64\n"
     ]
    }
   ],
   "source": [
    "###########Q2##########\n",
    "species_counts=data['species'].value_counts()\n",
    "print(\"\\n species counts\")\n",
    "print(species_counts)"
   ]
  },
  {
   "cell_type": "code",
   "execution_count": 23,
   "id": "b1b8ccaf-da18-4c1c-a368-62a70aad84a1",
   "metadata": {},
   "outputs": [
    {
     "name": "stdout",
     "output_type": "stream",
     "text": [
      "maximum value :=\n",
      " id             15.0\n",
      "sepallength     8.3\n",
      "sepalwidth      9.1\n",
      "petallength     8.9\n",
      "petal width     7.9\n",
      "dtype: float64\n",
      "minimum value :=\n",
      " id             1.0\n",
      "sepallength    4.5\n",
      "sepalwidth     4.5\n",
      "petallength    4.5\n",
      "petal width    4.5\n",
      "dtype: float64\n"
     ]
    }
   ],
   "source": [
    "max_values=data.select_dtypes(include='number').max()\n",
    "min_values=data.select_dtypes(include='number').min()\n",
    "print(\"maximum value :=\\n\",max_values)\n",
    "print(\"minimum value :=\\n\",min_values)"
   ]
  },
  {
   "cell_type": "code",
   "execution_count": null,
   "id": "971b00b5-43aa-49a7-9498-2208b37de816",
   "metadata": {},
   "outputs": [],
   "source": []
  }
 ],
 "metadata": {
  "kernelspec": {
   "display_name": "Python 3 (ipykernel)",
   "language": "python",
   "name": "python3"
  },
  "language_info": {
   "codemirror_mode": {
    "name": "ipython",
    "version": 3
   },
   "file_extension": ".py",
   "mimetype": "text/x-python",
   "name": "python",
   "nbconvert_exporter": "python",
   "pygments_lexer": "ipython3",
   "version": "3.11.5"
  }
 },
 "nbformat": 4,
 "nbformat_minor": 5
}
